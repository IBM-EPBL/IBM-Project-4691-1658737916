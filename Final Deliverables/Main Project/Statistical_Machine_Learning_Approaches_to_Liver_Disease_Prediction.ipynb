{
  "nbformat": 4,
  "nbformat_minor": 0,
  "metadata": {
    "colab": {
      "provenance": []
    },
    "kernelspec": {
      "name": "python3",
      "display_name": "Python 3"
    },
    "language_info": {
      "name": "python"
    }
  },
  "cells": [
    {
      "cell_type": "code",
      "execution_count": 1,
      "metadata": {
        "id": "YockGtXWFQBe"
      },
      "outputs": [],
      "source": [
        "!pip install -U -q PyDrive\n",
        "from pydrive.auth import GoogleAuth\n",
        "from pydrive.drive import GoogleDrive\n",
        "from google.colab import auth\n",
        "from oauth2client.client import GoogleCredentials"
      ]
    },
    {
      "cell_type": "code",
      "source": [
        "auth.authenticate_user()\n",
        "gauth = GoogleAuth()\n",
        "gauth.credentials = GoogleCredentials.get_application_default()\n",
        "drive = GoogleDrive(gauth)"
      ],
      "metadata": {
        "id": "Q7giBm-EFb4_"
      },
      "execution_count": 2,
      "outputs": []
    },
    {
      "cell_type": "code",
      "source": [
        "downloaded = drive.CreateFile({'id':'15db1wkXKPG7XRmKZ8W0S-NtSBuHE8vB7'}) # replace the id with id of file you want to access\n",
        "downloaded.GetContentFile('indian_liver_patient.csv')"
      ],
      "metadata": {
        "id": "GNsP6KX2FqFk"
      },
      "execution_count": 3,
      "outputs": []
    },
    {
      "cell_type": "code",
      "source": [
        "import pandas as pd\n",
        "import numpy as np\n",
        "import matplotlib.pyplot as plt\n",
        "import seaborn as sns\n",
        "import pickle\n",
        "from sklearn.model_selection import train_test_split, StratifiedKFold, GridSearchCV\n",
        "from sklearn.ensemble import RandomForestClassifier, VotingClassifier\n",
        "from sklearn.neighbors import KNeighborsClassifier\n",
        "from sklearn import tree\n",
        "from sklearn.tree import DecisionTreeClassifier\n",
        "from sklearn.metrics import accuracy_score, confusion_matrix,classification_report"
      ],
      "metadata": {
        "id": "XE0yStB3G8KJ"
      },
      "execution_count": 4,
      "outputs": []
    },
    {
      "cell_type": "code",
      "source": [
        "data=pd.read_csv('indian_liver_patient.csv')"
      ],
      "metadata": {
        "id": "C4TMRdTVHIsV"
      },
      "execution_count": 5,
      "outputs": []
    },
    {
      "cell_type": "code",
      "source": [
        "data.info()"
      ],
      "metadata": {
        "colab": {
          "base_uri": "https://localhost:8080/"
        },
        "id": "rx1elpVXHIo1",
        "outputId": "0ead1b1a-5977-40a0-dd51-a76f439657f3"
      },
      "execution_count": 6,
      "outputs": [
        {
          "output_type": "stream",
          "name": "stdout",
          "text": [
            "<class 'pandas.core.frame.DataFrame'>\n",
            "RangeIndex: 583 entries, 0 to 582\n",
            "Data columns (total 11 columns):\n",
            " #   Column                      Non-Null Count  Dtype  \n",
            "---  ------                      --------------  -----  \n",
            " 0   Age                         583 non-null    int64  \n",
            " 1   Gender                      583 non-null    object \n",
            " 2   Total_Bilirubin             583 non-null    float64\n",
            " 3   Direct_Bilirubin            583 non-null    float64\n",
            " 4   Alkaline_Phosphotase        583 non-null    int64  \n",
            " 5   Alamine_Aminotransferase    583 non-null    int64  \n",
            " 6   Aspartate_Aminotransferase  583 non-null    int64  \n",
            " 7   Total_Protiens              583 non-null    float64\n",
            " 8   Albumin                     583 non-null    float64\n",
            " 9   Albumin_and_Globulin_Ratio  579 non-null    float64\n",
            " 10  Dataset                     583 non-null    int64  \n",
            "dtypes: float64(5), int64(5), object(1)\n",
            "memory usage: 50.2+ KB\n"
          ]
        }
      ]
    },
    {
      "cell_type": "code",
      "source": [
        "data.head(10)"
      ],
      "metadata": {
        "colab": {
          "base_uri": "https://localhost:8080/",
          "height": 427
        },
        "id": "ciYdEKanHNih",
        "outputId": "b4ff38ac-8c94-49de-d1e8-0e5aa457fb24"
      },
      "execution_count": 7,
      "outputs": [
        {
          "output_type": "execute_result",
          "data": {
            "text/plain": [
              "   Age  Gender  Total_Bilirubin  Direct_Bilirubin  Alkaline_Phosphotase  \\\n",
              "0   65  Female              0.7               0.1                   187   \n",
              "1   62    Male             10.9               5.5                   699   \n",
              "2   62    Male              7.3               4.1                   490   \n",
              "3   58    Male              1.0               0.4                   182   \n",
              "4   72    Male              3.9               2.0                   195   \n",
              "5   46    Male              1.8               0.7                   208   \n",
              "6   26  Female              0.9               0.2                   154   \n",
              "7   29  Female              0.9               0.3                   202   \n",
              "8   17    Male              0.9               0.3                   202   \n",
              "9   55    Male              0.7               0.2                   290   \n",
              "\n",
              "   Alamine_Aminotransferase  Aspartate_Aminotransferase  Total_Protiens  \\\n",
              "0                        16                          18             6.8   \n",
              "1                        64                         100             7.5   \n",
              "2                        60                          68             7.0   \n",
              "3                        14                          20             6.8   \n",
              "4                        27                          59             7.3   \n",
              "5                        19                          14             7.6   \n",
              "6                        16                          12             7.0   \n",
              "7                        14                          11             6.7   \n",
              "8                        22                          19             7.4   \n",
              "9                        53                          58             6.8   \n",
              "\n",
              "   Albumin  Albumin_and_Globulin_Ratio  Dataset  \n",
              "0      3.3                        0.90        1  \n",
              "1      3.2                        0.74        1  \n",
              "2      3.3                        0.89        1  \n",
              "3      3.4                        1.00        1  \n",
              "4      2.4                        0.40        1  \n",
              "5      4.4                        1.30        1  \n",
              "6      3.5                        1.00        1  \n",
              "7      3.6                        1.10        1  \n",
              "8      4.1                        1.20        2  \n",
              "9      3.4                        1.00        1  "
            ],
            "text/html": [
              "\n",
              "  <div id=\"df-a18a0489-9cd5-4581-ba2f-89cdf00910f0\">\n",
              "    <div class=\"colab-df-container\">\n",
              "      <div>\n",
              "<style scoped>\n",
              "    .dataframe tbody tr th:only-of-type {\n",
              "        vertical-align: middle;\n",
              "    }\n",
              "\n",
              "    .dataframe tbody tr th {\n",
              "        vertical-align: top;\n",
              "    }\n",
              "\n",
              "    .dataframe thead th {\n",
              "        text-align: right;\n",
              "    }\n",
              "</style>\n",
              "<table border=\"1\" class=\"dataframe\">\n",
              "  <thead>\n",
              "    <tr style=\"text-align: right;\">\n",
              "      <th></th>\n",
              "      <th>Age</th>\n",
              "      <th>Gender</th>\n",
              "      <th>Total_Bilirubin</th>\n",
              "      <th>Direct_Bilirubin</th>\n",
              "      <th>Alkaline_Phosphotase</th>\n",
              "      <th>Alamine_Aminotransferase</th>\n",
              "      <th>Aspartate_Aminotransferase</th>\n",
              "      <th>Total_Protiens</th>\n",
              "      <th>Albumin</th>\n",
              "      <th>Albumin_and_Globulin_Ratio</th>\n",
              "      <th>Dataset</th>\n",
              "    </tr>\n",
              "  </thead>\n",
              "  <tbody>\n",
              "    <tr>\n",
              "      <th>0</th>\n",
              "      <td>65</td>\n",
              "      <td>Female</td>\n",
              "      <td>0.7</td>\n",
              "      <td>0.1</td>\n",
              "      <td>187</td>\n",
              "      <td>16</td>\n",
              "      <td>18</td>\n",
              "      <td>6.8</td>\n",
              "      <td>3.3</td>\n",
              "      <td>0.90</td>\n",
              "      <td>1</td>\n",
              "    </tr>\n",
              "    <tr>\n",
              "      <th>1</th>\n",
              "      <td>62</td>\n",
              "      <td>Male</td>\n",
              "      <td>10.9</td>\n",
              "      <td>5.5</td>\n",
              "      <td>699</td>\n",
              "      <td>64</td>\n",
              "      <td>100</td>\n",
              "      <td>7.5</td>\n",
              "      <td>3.2</td>\n",
              "      <td>0.74</td>\n",
              "      <td>1</td>\n",
              "    </tr>\n",
              "    <tr>\n",
              "      <th>2</th>\n",
              "      <td>62</td>\n",
              "      <td>Male</td>\n",
              "      <td>7.3</td>\n",
              "      <td>4.1</td>\n",
              "      <td>490</td>\n",
              "      <td>60</td>\n",
              "      <td>68</td>\n",
              "      <td>7.0</td>\n",
              "      <td>3.3</td>\n",
              "      <td>0.89</td>\n",
              "      <td>1</td>\n",
              "    </tr>\n",
              "    <tr>\n",
              "      <th>3</th>\n",
              "      <td>58</td>\n",
              "      <td>Male</td>\n",
              "      <td>1.0</td>\n",
              "      <td>0.4</td>\n",
              "      <td>182</td>\n",
              "      <td>14</td>\n",
              "      <td>20</td>\n",
              "      <td>6.8</td>\n",
              "      <td>3.4</td>\n",
              "      <td>1.00</td>\n",
              "      <td>1</td>\n",
              "    </tr>\n",
              "    <tr>\n",
              "      <th>4</th>\n",
              "      <td>72</td>\n",
              "      <td>Male</td>\n",
              "      <td>3.9</td>\n",
              "      <td>2.0</td>\n",
              "      <td>195</td>\n",
              "      <td>27</td>\n",
              "      <td>59</td>\n",
              "      <td>7.3</td>\n",
              "      <td>2.4</td>\n",
              "      <td>0.40</td>\n",
              "      <td>1</td>\n",
              "    </tr>\n",
              "    <tr>\n",
              "      <th>5</th>\n",
              "      <td>46</td>\n",
              "      <td>Male</td>\n",
              "      <td>1.8</td>\n",
              "      <td>0.7</td>\n",
              "      <td>208</td>\n",
              "      <td>19</td>\n",
              "      <td>14</td>\n",
              "      <td>7.6</td>\n",
              "      <td>4.4</td>\n",
              "      <td>1.30</td>\n",
              "      <td>1</td>\n",
              "    </tr>\n",
              "    <tr>\n",
              "      <th>6</th>\n",
              "      <td>26</td>\n",
              "      <td>Female</td>\n",
              "      <td>0.9</td>\n",
              "      <td>0.2</td>\n",
              "      <td>154</td>\n",
              "      <td>16</td>\n",
              "      <td>12</td>\n",
              "      <td>7.0</td>\n",
              "      <td>3.5</td>\n",
              "      <td>1.00</td>\n",
              "      <td>1</td>\n",
              "    </tr>\n",
              "    <tr>\n",
              "      <th>7</th>\n",
              "      <td>29</td>\n",
              "      <td>Female</td>\n",
              "      <td>0.9</td>\n",
              "      <td>0.3</td>\n",
              "      <td>202</td>\n",
              "      <td>14</td>\n",
              "      <td>11</td>\n",
              "      <td>6.7</td>\n",
              "      <td>3.6</td>\n",
              "      <td>1.10</td>\n",
              "      <td>1</td>\n",
              "    </tr>\n",
              "    <tr>\n",
              "      <th>8</th>\n",
              "      <td>17</td>\n",
              "      <td>Male</td>\n",
              "      <td>0.9</td>\n",
              "      <td>0.3</td>\n",
              "      <td>202</td>\n",
              "      <td>22</td>\n",
              "      <td>19</td>\n",
              "      <td>7.4</td>\n",
              "      <td>4.1</td>\n",
              "      <td>1.20</td>\n",
              "      <td>2</td>\n",
              "    </tr>\n",
              "    <tr>\n",
              "      <th>9</th>\n",
              "      <td>55</td>\n",
              "      <td>Male</td>\n",
              "      <td>0.7</td>\n",
              "      <td>0.2</td>\n",
              "      <td>290</td>\n",
              "      <td>53</td>\n",
              "      <td>58</td>\n",
              "      <td>6.8</td>\n",
              "      <td>3.4</td>\n",
              "      <td>1.00</td>\n",
              "      <td>1</td>\n",
              "    </tr>\n",
              "  </tbody>\n",
              "</table>\n",
              "</div>\n",
              "      <button class=\"colab-df-convert\" onclick=\"convertToInteractive('df-a18a0489-9cd5-4581-ba2f-89cdf00910f0')\"\n",
              "              title=\"Convert this dataframe to an interactive table.\"\n",
              "              style=\"display:none;\">\n",
              "        \n",
              "  <svg xmlns=\"http://www.w3.org/2000/svg\" height=\"24px\"viewBox=\"0 0 24 24\"\n",
              "       width=\"24px\">\n",
              "    <path d=\"M0 0h24v24H0V0z\" fill=\"none\"/>\n",
              "    <path d=\"M18.56 5.44l.94 2.06.94-2.06 2.06-.94-2.06-.94-.94-2.06-.94 2.06-2.06.94zm-11 1L8.5 8.5l.94-2.06 2.06-.94-2.06-.94L8.5 2.5l-.94 2.06-2.06.94zm10 10l.94 2.06.94-2.06 2.06-.94-2.06-.94-.94-2.06-.94 2.06-2.06.94z\"/><path d=\"M17.41 7.96l-1.37-1.37c-.4-.4-.92-.59-1.43-.59-.52 0-1.04.2-1.43.59L10.3 9.45l-7.72 7.72c-.78.78-.78 2.05 0 2.83L4 21.41c.39.39.9.59 1.41.59.51 0 1.02-.2 1.41-.59l7.78-7.78 2.81-2.81c.8-.78.8-2.07 0-2.86zM5.41 20L4 18.59l7.72-7.72 1.47 1.35L5.41 20z\"/>\n",
              "  </svg>\n",
              "      </button>\n",
              "      \n",
              "  <style>\n",
              "    .colab-df-container {\n",
              "      display:flex;\n",
              "      flex-wrap:wrap;\n",
              "      gap: 12px;\n",
              "    }\n",
              "\n",
              "    .colab-df-convert {\n",
              "      background-color: #E8F0FE;\n",
              "      border: none;\n",
              "      border-radius: 50%;\n",
              "      cursor: pointer;\n",
              "      display: none;\n",
              "      fill: #1967D2;\n",
              "      height: 32px;\n",
              "      padding: 0 0 0 0;\n",
              "      width: 32px;\n",
              "    }\n",
              "\n",
              "    .colab-df-convert:hover {\n",
              "      background-color: #E2EBFA;\n",
              "      box-shadow: 0px 1px 2px rgba(60, 64, 67, 0.3), 0px 1px 3px 1px rgba(60, 64, 67, 0.15);\n",
              "      fill: #174EA6;\n",
              "    }\n",
              "\n",
              "    [theme=dark] .colab-df-convert {\n",
              "      background-color: #3B4455;\n",
              "      fill: #D2E3FC;\n",
              "    }\n",
              "\n",
              "    [theme=dark] .colab-df-convert:hover {\n",
              "      background-color: #434B5C;\n",
              "      box-shadow: 0px 1px 3px 1px rgba(0, 0, 0, 0.15);\n",
              "      filter: drop-shadow(0px 1px 2px rgba(0, 0, 0, 0.3));\n",
              "      fill: #FFFFFF;\n",
              "    }\n",
              "  </style>\n",
              "\n",
              "      <script>\n",
              "        const buttonEl =\n",
              "          document.querySelector('#df-a18a0489-9cd5-4581-ba2f-89cdf00910f0 button.colab-df-convert');\n",
              "        buttonEl.style.display =\n",
              "          google.colab.kernel.accessAllowed ? 'block' : 'none';\n",
              "\n",
              "        async function convertToInteractive(key) {\n",
              "          const element = document.querySelector('#df-a18a0489-9cd5-4581-ba2f-89cdf00910f0');\n",
              "          const dataTable =\n",
              "            await google.colab.kernel.invokeFunction('convertToInteractive',\n",
              "                                                     [key], {});\n",
              "          if (!dataTable) return;\n",
              "\n",
              "          const docLinkHtml = 'Like what you see? Visit the ' +\n",
              "            '<a target=\"_blank\" href=https://colab.research.google.com/notebooks/data_table.ipynb>data table notebook</a>'\n",
              "            + ' to learn more about interactive tables.';\n",
              "          element.innerHTML = '';\n",
              "          dataTable['output_type'] = 'display_data';\n",
              "          await google.colab.output.renderOutput(dataTable, element);\n",
              "          const docLink = document.createElement('div');\n",
              "          docLink.innerHTML = docLinkHtml;\n",
              "          element.appendChild(docLink);\n",
              "        }\n",
              "      </script>\n",
              "    </div>\n",
              "  </div>\n",
              "  "
            ]
          },
          "metadata": {},
          "execution_count": 7
        }
      ]
    },
    {
      "cell_type": "code",
      "source": [
        "data.tail(10)"
      ],
      "metadata": {
        "colab": {
          "base_uri": "https://localhost:8080/",
          "height": 427
        },
        "id": "5DzHz9uWHdwG",
        "outputId": "de01b9cf-3c52-4720-d546-0bd7c9403e12"
      },
      "execution_count": 8,
      "outputs": [
        {
          "output_type": "execute_result",
          "data": {
            "text/plain": [
              "     Age Gender  Total_Bilirubin  Direct_Bilirubin  Alkaline_Phosphotase  \\\n",
              "573   32   Male              3.7               1.6                   612   \n",
              "574   32   Male             12.1               6.0                   515   \n",
              "575   32   Male             25.0              13.7                   560   \n",
              "576   32   Male             15.0               8.2                   289   \n",
              "577   32   Male             12.7               8.4                   190   \n",
              "578   60   Male              0.5               0.1                   500   \n",
              "579   40   Male              0.6               0.1                    98   \n",
              "580   52   Male              0.8               0.2                   245   \n",
              "581   31   Male              1.3               0.5                   184   \n",
              "582   38   Male              1.0               0.3                   216   \n",
              "\n",
              "     Alamine_Aminotransferase  Aspartate_Aminotransferase  Total_Protiens  \\\n",
              "573                        50                          88             6.2   \n",
              "574                        48                          92             6.6   \n",
              "575                        41                          88             7.9   \n",
              "576                        58                          80             5.3   \n",
              "577                        28                          47             5.4   \n",
              "578                        20                          34             5.9   \n",
              "579                        35                          31             6.0   \n",
              "580                        48                          49             6.4   \n",
              "581                        29                          32             6.8   \n",
              "582                        21                          24             7.3   \n",
              "\n",
              "     Albumin  Albumin_and_Globulin_Ratio  Dataset  \n",
              "573      1.9                        0.40        1  \n",
              "574      2.4                        0.50        1  \n",
              "575      2.5                        2.50        1  \n",
              "576      2.2                        0.70        1  \n",
              "577      2.6                        0.90        1  \n",
              "578      1.6                        0.37        2  \n",
              "579      3.2                        1.10        1  \n",
              "580      3.2                        1.00        1  \n",
              "581      3.4                        1.00        1  \n",
              "582      4.4                        1.50        2  "
            ],
            "text/html": [
              "\n",
              "  <div id=\"df-6242ce64-8f7c-4636-a701-9565bb0aa070\">\n",
              "    <div class=\"colab-df-container\">\n",
              "      <div>\n",
              "<style scoped>\n",
              "    .dataframe tbody tr th:only-of-type {\n",
              "        vertical-align: middle;\n",
              "    }\n",
              "\n",
              "    .dataframe tbody tr th {\n",
              "        vertical-align: top;\n",
              "    }\n",
              "\n",
              "    .dataframe thead th {\n",
              "        text-align: right;\n",
              "    }\n",
              "</style>\n",
              "<table border=\"1\" class=\"dataframe\">\n",
              "  <thead>\n",
              "    <tr style=\"text-align: right;\">\n",
              "      <th></th>\n",
              "      <th>Age</th>\n",
              "      <th>Gender</th>\n",
              "      <th>Total_Bilirubin</th>\n",
              "      <th>Direct_Bilirubin</th>\n",
              "      <th>Alkaline_Phosphotase</th>\n",
              "      <th>Alamine_Aminotransferase</th>\n",
              "      <th>Aspartate_Aminotransferase</th>\n",
              "      <th>Total_Protiens</th>\n",
              "      <th>Albumin</th>\n",
              "      <th>Albumin_and_Globulin_Ratio</th>\n",
              "      <th>Dataset</th>\n",
              "    </tr>\n",
              "  </thead>\n",
              "  <tbody>\n",
              "    <tr>\n",
              "      <th>573</th>\n",
              "      <td>32</td>\n",
              "      <td>Male</td>\n",
              "      <td>3.7</td>\n",
              "      <td>1.6</td>\n",
              "      <td>612</td>\n",
              "      <td>50</td>\n",
              "      <td>88</td>\n",
              "      <td>6.2</td>\n",
              "      <td>1.9</td>\n",
              "      <td>0.40</td>\n",
              "      <td>1</td>\n",
              "    </tr>\n",
              "    <tr>\n",
              "      <th>574</th>\n",
              "      <td>32</td>\n",
              "      <td>Male</td>\n",
              "      <td>12.1</td>\n",
              "      <td>6.0</td>\n",
              "      <td>515</td>\n",
              "      <td>48</td>\n",
              "      <td>92</td>\n",
              "      <td>6.6</td>\n",
              "      <td>2.4</td>\n",
              "      <td>0.50</td>\n",
              "      <td>1</td>\n",
              "    </tr>\n",
              "    <tr>\n",
              "      <th>575</th>\n",
              "      <td>32</td>\n",
              "      <td>Male</td>\n",
              "      <td>25.0</td>\n",
              "      <td>13.7</td>\n",
              "      <td>560</td>\n",
              "      <td>41</td>\n",
              "      <td>88</td>\n",
              "      <td>7.9</td>\n",
              "      <td>2.5</td>\n",
              "      <td>2.50</td>\n",
              "      <td>1</td>\n",
              "    </tr>\n",
              "    <tr>\n",
              "      <th>576</th>\n",
              "      <td>32</td>\n",
              "      <td>Male</td>\n",
              "      <td>15.0</td>\n",
              "      <td>8.2</td>\n",
              "      <td>289</td>\n",
              "      <td>58</td>\n",
              "      <td>80</td>\n",
              "      <td>5.3</td>\n",
              "      <td>2.2</td>\n",
              "      <td>0.70</td>\n",
              "      <td>1</td>\n",
              "    </tr>\n",
              "    <tr>\n",
              "      <th>577</th>\n",
              "      <td>32</td>\n",
              "      <td>Male</td>\n",
              "      <td>12.7</td>\n",
              "      <td>8.4</td>\n",
              "      <td>190</td>\n",
              "      <td>28</td>\n",
              "      <td>47</td>\n",
              "      <td>5.4</td>\n",
              "      <td>2.6</td>\n",
              "      <td>0.90</td>\n",
              "      <td>1</td>\n",
              "    </tr>\n",
              "    <tr>\n",
              "      <th>578</th>\n",
              "      <td>60</td>\n",
              "      <td>Male</td>\n",
              "      <td>0.5</td>\n",
              "      <td>0.1</td>\n",
              "      <td>500</td>\n",
              "      <td>20</td>\n",
              "      <td>34</td>\n",
              "      <td>5.9</td>\n",
              "      <td>1.6</td>\n",
              "      <td>0.37</td>\n",
              "      <td>2</td>\n",
              "    </tr>\n",
              "    <tr>\n",
              "      <th>579</th>\n",
              "      <td>40</td>\n",
              "      <td>Male</td>\n",
              "      <td>0.6</td>\n",
              "      <td>0.1</td>\n",
              "      <td>98</td>\n",
              "      <td>35</td>\n",
              "      <td>31</td>\n",
              "      <td>6.0</td>\n",
              "      <td>3.2</td>\n",
              "      <td>1.10</td>\n",
              "      <td>1</td>\n",
              "    </tr>\n",
              "    <tr>\n",
              "      <th>580</th>\n",
              "      <td>52</td>\n",
              "      <td>Male</td>\n",
              "      <td>0.8</td>\n",
              "      <td>0.2</td>\n",
              "      <td>245</td>\n",
              "      <td>48</td>\n",
              "      <td>49</td>\n",
              "      <td>6.4</td>\n",
              "      <td>3.2</td>\n",
              "      <td>1.00</td>\n",
              "      <td>1</td>\n",
              "    </tr>\n",
              "    <tr>\n",
              "      <th>581</th>\n",
              "      <td>31</td>\n",
              "      <td>Male</td>\n",
              "      <td>1.3</td>\n",
              "      <td>0.5</td>\n",
              "      <td>184</td>\n",
              "      <td>29</td>\n",
              "      <td>32</td>\n",
              "      <td>6.8</td>\n",
              "      <td>3.4</td>\n",
              "      <td>1.00</td>\n",
              "      <td>1</td>\n",
              "    </tr>\n",
              "    <tr>\n",
              "      <th>582</th>\n",
              "      <td>38</td>\n",
              "      <td>Male</td>\n",
              "      <td>1.0</td>\n",
              "      <td>0.3</td>\n",
              "      <td>216</td>\n",
              "      <td>21</td>\n",
              "      <td>24</td>\n",
              "      <td>7.3</td>\n",
              "      <td>4.4</td>\n",
              "      <td>1.50</td>\n",
              "      <td>2</td>\n",
              "    </tr>\n",
              "  </tbody>\n",
              "</table>\n",
              "</div>\n",
              "      <button class=\"colab-df-convert\" onclick=\"convertToInteractive('df-6242ce64-8f7c-4636-a701-9565bb0aa070')\"\n",
              "              title=\"Convert this dataframe to an interactive table.\"\n",
              "              style=\"display:none;\">\n",
              "        \n",
              "  <svg xmlns=\"http://www.w3.org/2000/svg\" height=\"24px\"viewBox=\"0 0 24 24\"\n",
              "       width=\"24px\">\n",
              "    <path d=\"M0 0h24v24H0V0z\" fill=\"none\"/>\n",
              "    <path d=\"M18.56 5.44l.94 2.06.94-2.06 2.06-.94-2.06-.94-.94-2.06-.94 2.06-2.06.94zm-11 1L8.5 8.5l.94-2.06 2.06-.94-2.06-.94L8.5 2.5l-.94 2.06-2.06.94zm10 10l.94 2.06.94-2.06 2.06-.94-2.06-.94-.94-2.06-.94 2.06-2.06.94z\"/><path d=\"M17.41 7.96l-1.37-1.37c-.4-.4-.92-.59-1.43-.59-.52 0-1.04.2-1.43.59L10.3 9.45l-7.72 7.72c-.78.78-.78 2.05 0 2.83L4 21.41c.39.39.9.59 1.41.59.51 0 1.02-.2 1.41-.59l7.78-7.78 2.81-2.81c.8-.78.8-2.07 0-2.86zM5.41 20L4 18.59l7.72-7.72 1.47 1.35L5.41 20z\"/>\n",
              "  </svg>\n",
              "      </button>\n",
              "      \n",
              "  <style>\n",
              "    .colab-df-container {\n",
              "      display:flex;\n",
              "      flex-wrap:wrap;\n",
              "      gap: 12px;\n",
              "    }\n",
              "\n",
              "    .colab-df-convert {\n",
              "      background-color: #E8F0FE;\n",
              "      border: none;\n",
              "      border-radius: 50%;\n",
              "      cursor: pointer;\n",
              "      display: none;\n",
              "      fill: #1967D2;\n",
              "      height: 32px;\n",
              "      padding: 0 0 0 0;\n",
              "      width: 32px;\n",
              "    }\n",
              "\n",
              "    .colab-df-convert:hover {\n",
              "      background-color: #E2EBFA;\n",
              "      box-shadow: 0px 1px 2px rgba(60, 64, 67, 0.3), 0px 1px 3px 1px rgba(60, 64, 67, 0.15);\n",
              "      fill: #174EA6;\n",
              "    }\n",
              "\n",
              "    [theme=dark] .colab-df-convert {\n",
              "      background-color: #3B4455;\n",
              "      fill: #D2E3FC;\n",
              "    }\n",
              "\n",
              "    [theme=dark] .colab-df-convert:hover {\n",
              "      background-color: #434B5C;\n",
              "      box-shadow: 0px 1px 3px 1px rgba(0, 0, 0, 0.15);\n",
              "      filter: drop-shadow(0px 1px 2px rgba(0, 0, 0, 0.3));\n",
              "      fill: #FFFFFF;\n",
              "    }\n",
              "  </style>\n",
              "\n",
              "      <script>\n",
              "        const buttonEl =\n",
              "          document.querySelector('#df-6242ce64-8f7c-4636-a701-9565bb0aa070 button.colab-df-convert');\n",
              "        buttonEl.style.display =\n",
              "          google.colab.kernel.accessAllowed ? 'block' : 'none';\n",
              "\n",
              "        async function convertToInteractive(key) {\n",
              "          const element = document.querySelector('#df-6242ce64-8f7c-4636-a701-9565bb0aa070');\n",
              "          const dataTable =\n",
              "            await google.colab.kernel.invokeFunction('convertToInteractive',\n",
              "                                                     [key], {});\n",
              "          if (!dataTable) return;\n",
              "\n",
              "          const docLinkHtml = 'Like what you see? Visit the ' +\n",
              "            '<a target=\"_blank\" href=https://colab.research.google.com/notebooks/data_table.ipynb>data table notebook</a>'\n",
              "            + ' to learn more about interactive tables.';\n",
              "          element.innerHTML = '';\n",
              "          dataTable['output_type'] = 'display_data';\n",
              "          await google.colab.output.renderOutput(dataTable, element);\n",
              "          const docLink = document.createElement('div');\n",
              "          docLink.innerHTML = docLinkHtml;\n",
              "          element.appendChild(docLink);\n",
              "        }\n",
              "      </script>\n",
              "    </div>\n",
              "  </div>\n",
              "  "
            ]
          },
          "metadata": {},
          "execution_count": 8
        }
      ]
    },
    {
      "cell_type": "code",
      "source": [
        "data.describe()"
      ],
      "metadata": {
        "colab": {
          "base_uri": "https://localhost:8080/",
          "height": 364
        },
        "id": "KoVLFtmkHhYB",
        "outputId": "e495c5e6-314c-43a4-e50b-7f798c15d965"
      },
      "execution_count": 9,
      "outputs": [
        {
          "output_type": "execute_result",
          "data": {
            "text/plain": [
              "              Age  Total_Bilirubin  Direct_Bilirubin  Alkaline_Phosphotase  \\\n",
              "count  583.000000       583.000000        583.000000            583.000000   \n",
              "mean    44.746141         3.298799          1.486106            290.576329   \n",
              "std     16.189833         6.209522          2.808498            242.937989   \n",
              "min      4.000000         0.400000          0.100000             63.000000   \n",
              "25%     33.000000         0.800000          0.200000            175.500000   \n",
              "50%     45.000000         1.000000          0.300000            208.000000   \n",
              "75%     58.000000         2.600000          1.300000            298.000000   \n",
              "max     90.000000        75.000000         19.700000           2110.000000   \n",
              "\n",
              "       Alamine_Aminotransferase  Aspartate_Aminotransferase  Total_Protiens  \\\n",
              "count                583.000000                  583.000000      583.000000   \n",
              "mean                  80.713551                  109.910806        6.483190   \n",
              "std                  182.620356                  288.918529        1.085451   \n",
              "min                   10.000000                   10.000000        2.700000   \n",
              "25%                   23.000000                   25.000000        5.800000   \n",
              "50%                   35.000000                   42.000000        6.600000   \n",
              "75%                   60.500000                   87.000000        7.200000   \n",
              "max                 2000.000000                 4929.000000        9.600000   \n",
              "\n",
              "          Albumin  Albumin_and_Globulin_Ratio     Dataset  \n",
              "count  583.000000                  579.000000  583.000000  \n",
              "mean     3.141852                    0.947064    1.286449  \n",
              "std      0.795519                    0.319592    0.452490  \n",
              "min      0.900000                    0.300000    1.000000  \n",
              "25%      2.600000                    0.700000    1.000000  \n",
              "50%      3.100000                    0.930000    1.000000  \n",
              "75%      3.800000                    1.100000    2.000000  \n",
              "max      5.500000                    2.800000    2.000000  "
            ],
            "text/html": [
              "\n",
              "  <div id=\"df-7d092ea6-f912-4de2-9c59-431c5f81addf\">\n",
              "    <div class=\"colab-df-container\">\n",
              "      <div>\n",
              "<style scoped>\n",
              "    .dataframe tbody tr th:only-of-type {\n",
              "        vertical-align: middle;\n",
              "    }\n",
              "\n",
              "    .dataframe tbody tr th {\n",
              "        vertical-align: top;\n",
              "    }\n",
              "\n",
              "    .dataframe thead th {\n",
              "        text-align: right;\n",
              "    }\n",
              "</style>\n",
              "<table border=\"1\" class=\"dataframe\">\n",
              "  <thead>\n",
              "    <tr style=\"text-align: right;\">\n",
              "      <th></th>\n",
              "      <th>Age</th>\n",
              "      <th>Total_Bilirubin</th>\n",
              "      <th>Direct_Bilirubin</th>\n",
              "      <th>Alkaline_Phosphotase</th>\n",
              "      <th>Alamine_Aminotransferase</th>\n",
              "      <th>Aspartate_Aminotransferase</th>\n",
              "      <th>Total_Protiens</th>\n",
              "      <th>Albumin</th>\n",
              "      <th>Albumin_and_Globulin_Ratio</th>\n",
              "      <th>Dataset</th>\n",
              "    </tr>\n",
              "  </thead>\n",
              "  <tbody>\n",
              "    <tr>\n",
              "      <th>count</th>\n",
              "      <td>583.000000</td>\n",
              "      <td>583.000000</td>\n",
              "      <td>583.000000</td>\n",
              "      <td>583.000000</td>\n",
              "      <td>583.000000</td>\n",
              "      <td>583.000000</td>\n",
              "      <td>583.000000</td>\n",
              "      <td>583.000000</td>\n",
              "      <td>579.000000</td>\n",
              "      <td>583.000000</td>\n",
              "    </tr>\n",
              "    <tr>\n",
              "      <th>mean</th>\n",
              "      <td>44.746141</td>\n",
              "      <td>3.298799</td>\n",
              "      <td>1.486106</td>\n",
              "      <td>290.576329</td>\n",
              "      <td>80.713551</td>\n",
              "      <td>109.910806</td>\n",
              "      <td>6.483190</td>\n",
              "      <td>3.141852</td>\n",
              "      <td>0.947064</td>\n",
              "      <td>1.286449</td>\n",
              "    </tr>\n",
              "    <tr>\n",
              "      <th>std</th>\n",
              "      <td>16.189833</td>\n",
              "      <td>6.209522</td>\n",
              "      <td>2.808498</td>\n",
              "      <td>242.937989</td>\n",
              "      <td>182.620356</td>\n",
              "      <td>288.918529</td>\n",
              "      <td>1.085451</td>\n",
              "      <td>0.795519</td>\n",
              "      <td>0.319592</td>\n",
              "      <td>0.452490</td>\n",
              "    </tr>\n",
              "    <tr>\n",
              "      <th>min</th>\n",
              "      <td>4.000000</td>\n",
              "      <td>0.400000</td>\n",
              "      <td>0.100000</td>\n",
              "      <td>63.000000</td>\n",
              "      <td>10.000000</td>\n",
              "      <td>10.000000</td>\n",
              "      <td>2.700000</td>\n",
              "      <td>0.900000</td>\n",
              "      <td>0.300000</td>\n",
              "      <td>1.000000</td>\n",
              "    </tr>\n",
              "    <tr>\n",
              "      <th>25%</th>\n",
              "      <td>33.000000</td>\n",
              "      <td>0.800000</td>\n",
              "      <td>0.200000</td>\n",
              "      <td>175.500000</td>\n",
              "      <td>23.000000</td>\n",
              "      <td>25.000000</td>\n",
              "      <td>5.800000</td>\n",
              "      <td>2.600000</td>\n",
              "      <td>0.700000</td>\n",
              "      <td>1.000000</td>\n",
              "    </tr>\n",
              "    <tr>\n",
              "      <th>50%</th>\n",
              "      <td>45.000000</td>\n",
              "      <td>1.000000</td>\n",
              "      <td>0.300000</td>\n",
              "      <td>208.000000</td>\n",
              "      <td>35.000000</td>\n",
              "      <td>42.000000</td>\n",
              "      <td>6.600000</td>\n",
              "      <td>3.100000</td>\n",
              "      <td>0.930000</td>\n",
              "      <td>1.000000</td>\n",
              "    </tr>\n",
              "    <tr>\n",
              "      <th>75%</th>\n",
              "      <td>58.000000</td>\n",
              "      <td>2.600000</td>\n",
              "      <td>1.300000</td>\n",
              "      <td>298.000000</td>\n",
              "      <td>60.500000</td>\n",
              "      <td>87.000000</td>\n",
              "      <td>7.200000</td>\n",
              "      <td>3.800000</td>\n",
              "      <td>1.100000</td>\n",
              "      <td>2.000000</td>\n",
              "    </tr>\n",
              "    <tr>\n",
              "      <th>max</th>\n",
              "      <td>90.000000</td>\n",
              "      <td>75.000000</td>\n",
              "      <td>19.700000</td>\n",
              "      <td>2110.000000</td>\n",
              "      <td>2000.000000</td>\n",
              "      <td>4929.000000</td>\n",
              "      <td>9.600000</td>\n",
              "      <td>5.500000</td>\n",
              "      <td>2.800000</td>\n",
              "      <td>2.000000</td>\n",
              "    </tr>\n",
              "  </tbody>\n",
              "</table>\n",
              "</div>\n",
              "      <button class=\"colab-df-convert\" onclick=\"convertToInteractive('df-7d092ea6-f912-4de2-9c59-431c5f81addf')\"\n",
              "              title=\"Convert this dataframe to an interactive table.\"\n",
              "              style=\"display:none;\">\n",
              "        \n",
              "  <svg xmlns=\"http://www.w3.org/2000/svg\" height=\"24px\"viewBox=\"0 0 24 24\"\n",
              "       width=\"24px\">\n",
              "    <path d=\"M0 0h24v24H0V0z\" fill=\"none\"/>\n",
              "    <path d=\"M18.56 5.44l.94 2.06.94-2.06 2.06-.94-2.06-.94-.94-2.06-.94 2.06-2.06.94zm-11 1L8.5 8.5l.94-2.06 2.06-.94-2.06-.94L8.5 2.5l-.94 2.06-2.06.94zm10 10l.94 2.06.94-2.06 2.06-.94-2.06-.94-.94-2.06-.94 2.06-2.06.94z\"/><path d=\"M17.41 7.96l-1.37-1.37c-.4-.4-.92-.59-1.43-.59-.52 0-1.04.2-1.43.59L10.3 9.45l-7.72 7.72c-.78.78-.78 2.05 0 2.83L4 21.41c.39.39.9.59 1.41.59.51 0 1.02-.2 1.41-.59l7.78-7.78 2.81-2.81c.8-.78.8-2.07 0-2.86zM5.41 20L4 18.59l7.72-7.72 1.47 1.35L5.41 20z\"/>\n",
              "  </svg>\n",
              "      </button>\n",
              "      \n",
              "  <style>\n",
              "    .colab-df-container {\n",
              "      display:flex;\n",
              "      flex-wrap:wrap;\n",
              "      gap: 12px;\n",
              "    }\n",
              "\n",
              "    .colab-df-convert {\n",
              "      background-color: #E8F0FE;\n",
              "      border: none;\n",
              "      border-radius: 50%;\n",
              "      cursor: pointer;\n",
              "      display: none;\n",
              "      fill: #1967D2;\n",
              "      height: 32px;\n",
              "      padding: 0 0 0 0;\n",
              "      width: 32px;\n",
              "    }\n",
              "\n",
              "    .colab-df-convert:hover {\n",
              "      background-color: #E2EBFA;\n",
              "      box-shadow: 0px 1px 2px rgba(60, 64, 67, 0.3), 0px 1px 3px 1px rgba(60, 64, 67, 0.15);\n",
              "      fill: #174EA6;\n",
              "    }\n",
              "\n",
              "    [theme=dark] .colab-df-convert {\n",
              "      background-color: #3B4455;\n",
              "      fill: #D2E3FC;\n",
              "    }\n",
              "\n",
              "    [theme=dark] .colab-df-convert:hover {\n",
              "      background-color: #434B5C;\n",
              "      box-shadow: 0px 1px 3px 1px rgba(0, 0, 0, 0.15);\n",
              "      filter: drop-shadow(0px 1px 2px rgba(0, 0, 0, 0.3));\n",
              "      fill: #FFFFFF;\n",
              "    }\n",
              "  </style>\n",
              "\n",
              "      <script>\n",
              "        const buttonEl =\n",
              "          document.querySelector('#df-7d092ea6-f912-4de2-9c59-431c5f81addf button.colab-df-convert');\n",
              "        buttonEl.style.display =\n",
              "          google.colab.kernel.accessAllowed ? 'block' : 'none';\n",
              "\n",
              "        async function convertToInteractive(key) {\n",
              "          const element = document.querySelector('#df-7d092ea6-f912-4de2-9c59-431c5f81addf');\n",
              "          const dataTable =\n",
              "            await google.colab.kernel.invokeFunction('convertToInteractive',\n",
              "                                                     [key], {});\n",
              "          if (!dataTable) return;\n",
              "\n",
              "          const docLinkHtml = 'Like what you see? Visit the ' +\n",
              "            '<a target=\"_blank\" href=https://colab.research.google.com/notebooks/data_table.ipynb>data table notebook</a>'\n",
              "            + ' to learn more about interactive tables.';\n",
              "          element.innerHTML = '';\n",
              "          dataTable['output_type'] = 'display_data';\n",
              "          await google.colab.output.renderOutput(dataTable, element);\n",
              "          const docLink = document.createElement('div');\n",
              "          docLink.innerHTML = docLinkHtml;\n",
              "          element.appendChild(docLink);\n",
              "        }\n",
              "      </script>\n",
              "    </div>\n",
              "  </div>\n",
              "  "
            ]
          },
          "metadata": {},
          "execution_count": 9
        }
      ]
    },
    {
      "cell_type": "code",
      "source": [
        "data.isnull().any()"
      ],
      "metadata": {
        "colab": {
          "base_uri": "https://localhost:8080/"
        },
        "id": "v1k8XYJ5Hpdb",
        "outputId": "2428f85a-623e-4b26-bff0-10c38396700c"
      },
      "execution_count": 10,
      "outputs": [
        {
          "output_type": "execute_result",
          "data": {
            "text/plain": [
              "Age                           False\n",
              "Gender                        False\n",
              "Total_Bilirubin               False\n",
              "Direct_Bilirubin              False\n",
              "Alkaline_Phosphotase          False\n",
              "Alamine_Aminotransferase      False\n",
              "Aspartate_Aminotransferase    False\n",
              "Total_Protiens                False\n",
              "Albumin                       False\n",
              "Albumin_and_Globulin_Ratio     True\n",
              "Dataset                       False\n",
              "dtype: bool"
            ]
          },
          "metadata": {},
          "execution_count": 10
        }
      ]
    },
    {
      "cell_type": "code",
      "source": [
        "data.isnull().sum()"
      ],
      "metadata": {
        "colab": {
          "base_uri": "https://localhost:8080/"
        },
        "id": "rAj6li-VHrLr",
        "outputId": "742cbb5f-eda0-48f1-e670-686739ef451c"
      },
      "execution_count": 11,
      "outputs": [
        {
          "output_type": "execute_result",
          "data": {
            "text/plain": [
              "Age                           0\n",
              "Gender                        0\n",
              "Total_Bilirubin               0\n",
              "Direct_Bilirubin              0\n",
              "Alkaline_Phosphotase          0\n",
              "Alamine_Aminotransferase      0\n",
              "Aspartate_Aminotransferase    0\n",
              "Total_Protiens                0\n",
              "Albumin                       0\n",
              "Albumin_and_Globulin_Ratio    4\n",
              "Dataset                       0\n",
              "dtype: int64"
            ]
          },
          "metadata": {},
          "execution_count": 11
        }
      ]
    },
    {
      "cell_type": "code",
      "source": [
        "data['Albumin_and_Globulin_Ratio']=data['Albumin_and_Globulin_Ratio'].fillna(data['Albumin_and_Globulin_Ratio'].mode()[0])"
      ],
      "metadata": {
        "id": "V_6j6EtRHxa0"
      },
      "execution_count": 12,
      "outputs": []
    },
    {
      "cell_type": "code",
      "source": [
        "data.isnull().sum()"
      ],
      "metadata": {
        "colab": {
          "base_uri": "https://localhost:8080/"
        },
        "id": "4Lg429p8H2IO",
        "outputId": "4e714f31-1630-41fb-d329-61289121511d"
      },
      "execution_count": 13,
      "outputs": [
        {
          "output_type": "execute_result",
          "data": {
            "text/plain": [
              "Age                           0\n",
              "Gender                        0\n",
              "Total_Bilirubin               0\n",
              "Direct_Bilirubin              0\n",
              "Alkaline_Phosphotase          0\n",
              "Alamine_Aminotransferase      0\n",
              "Aspartate_Aminotransferase    0\n",
              "Total_Protiens                0\n",
              "Albumin                       0\n",
              "Albumin_and_Globulin_Ratio    0\n",
              "Dataset                       0\n",
              "dtype: int64"
            ]
          },
          "metadata": {},
          "execution_count": 13
        }
      ]
    },
    {
      "cell_type": "code",
      "source": [
        "sns.countplot(data=data,x='Gender',label='Count')\n",
        "m,f=data['Gender'].value_counts()\n",
        "print(\"No of Males:\",m)\n",
        "print(\"no of Females:\",f)"
      ],
      "metadata": {
        "colab": {
          "base_uri": "https://localhost:8080/",
          "height": 314
        },
        "id": "MbOQgU8UH6qL",
        "outputId": "d8e4afd0-34e2-492d-d955-c05944cb99cf"
      },
      "execution_count": 14,
      "outputs": [
        {
          "output_type": "stream",
          "name": "stdout",
          "text": [
            "No of Males: 441\n",
            "no of Females: 142\n"
          ]
        },
        {
          "output_type": "display_data",
          "data": {
            "text/plain": [
              "<Figure size 432x288 with 1 Axes>"
            ],
            "image/png": "[encoded data removed]"
          },
          "metadata": {
            "needs_background": "light"
          }
        }
      ]
    },
    {
      "cell_type": "code",
      "source": [
        "sns.countplot(data=data,x='Dataset')\n",
        "LD,NLD=data['Dataset'].value_counts()\n",
        "print(\"liver disease patients:\",LD)\n",
        "print(\"non-liver disease patients:\",NLD)"
      ],
      "metadata": {
        "colab": {
          "base_uri": "https://localhost:8080/",
          "height": 314
        },
        "id": "HynO2sfjICCr",
        "outputId": "02dd6cc0-05b4-452a-ec3a-84d65b7e9bb4"
      },
      "execution_count": 15,
      "outputs": [
        {
          "output_type": "stream",
          "name": "stdout",
          "text": [
            "liver disease patients: 416\n",
            "non-liver disease patients: 167\n"
          ]
        },
        {
          "output_type": "display_data",
          "data": {
            "text/plain": [
              "<Figure size 432x288 with 1 Axes>"
            ],
            "image/png": "[encoded data removed]"
          },
          "metadata": {
            "needs_background": "light"
          }
        }
      ]
    },
    {
      "cell_type": "code",
      "source": [
        "def partition(x):\n",
        "    if x=='Male':\n",
        "        return 1\n",
        "    return 0\n",
        "data['Gender']=data['Gender'].map(partition)"
      ],
      "metadata": {
        "id": "OTnp7z8rKEFH"
      },
      "execution_count": 17,
      "outputs": []
    },
    {
      "cell_type": "code",
      "source": [
        "data"
      ],
      "metadata": {
        "colab": {
          "base_uri": "https://localhost:8080/",
          "height": 488
        },
        "id": "PYNTjY9OKF7M",
        "outputId": "ac52fe17-7829-4820-a5b4-bd28295235b6"
      },
      "execution_count": 18,
      "outputs": [
        {
          "output_type": "execute_result",
          "data": {
            "text/plain": [
              "     Age  Gender  Total_Bilirubin  Direct_Bilirubin  Alkaline_Phosphotase  \\\n",
              "0     65       0              0.7               0.1                   187   \n",
              "1     62       0             10.9               5.5                   699   \n",
              "2     62       0              7.3               4.1                   490   \n",
              "3     58       0              1.0               0.4                   182   \n",
              "4     72       0              3.9               2.0                   195   \n",
              "..   ...     ...              ...               ...                   ...   \n",
              "578   60       0              0.5               0.1                   500   \n",
              "579   40       0              0.6               0.1                    98   \n",
              "580   52       0              0.8               0.2                   245   \n",
              "581   31       0              1.3               0.5                   184   \n",
              "582   38       0              1.0               0.3                   216   \n",
              "\n",
              "     Alamine_Aminotransferase  Aspartate_Aminotransferase  Total_Protiens  \\\n",
              "0                          16                          18             6.8   \n",
              "1                          64                         100             7.5   \n",
              "2                          60                          68             7.0   \n",
              "3                          14                          20             6.8   \n",
              "4                          27                          59             7.3   \n",
              "..                        ...                         ...             ...   \n",
              "578                        20                          34             5.9   \n",
              "579                        35                          31             6.0   \n",
              "580                        48                          49             6.4   \n",
              "581                        29                          32             6.8   \n",
              "582                        21                          24             7.3   \n",
              "\n",
              "     Albumin  Albumin_and_Globulin_Ratio  Dataset  \n",
              "0        3.3                        0.90        1  \n",
              "1        3.2                        0.74        1  \n",
              "2        3.3                        0.89        1  \n",
              "3        3.4                        1.00        1  \n",
              "4        2.4                        0.40        1  \n",
              "..       ...                         ...      ...  \n",
              "578      1.6                        0.37        2  \n",
              "579      3.2                        1.10        1  \n",
              "580      3.2                        1.00        1  \n",
              "581      3.4                        1.00        1  \n",
              "582      4.4                        1.50        2  \n",
              "\n",
              "[583 rows x 11 columns]"
            ],
            "text/html": [
              "\n",
              "  <div id=\"df-ae389133-5ddb-4302-9699-b12c9d9933bf\">\n",
              "    <div class=\"colab-df-container\">\n",
              "      <div>\n",
              "<style scoped>\n",
              "    .dataframe tbody tr th:only-of-type {\n",
              "        vertical-align: middle;\n",
              "    }\n",
              "\n",
              "    .dataframe tbody tr th {\n",
              "        vertical-align: top;\n",
              "    }\n",
              "\n",
              "    .dataframe thead th {\n",
              "        text-align: right;\n",
              "    }\n",
              "</style>\n",
              "<table border=\"1\" class=\"dataframe\">\n",
              "  <thead>\n",
              "    <tr style=\"text-align: right;\">\n",
              "      <th></th>\n",
              "      <th>Age</th>\n",
              "      <th>Gender</th>\n",
              "      <th>Total_Bilirubin</th>\n",
              "      <th>Direct_Bilirubin</th>\n",
              "      <th>Alkaline_Phosphotase</th>\n",
              "      <th>Alamine_Aminotransferase</th>\n",
              "      <th>Aspartate_Aminotransferase</th>\n",
              "      <th>Total_Protiens</th>\n",
              "      <th>Albumin</th>\n",
              "      <th>Albumin_and_Globulin_Ratio</th>\n",
              "      <th>Dataset</th>\n",
              "    </tr>\n",
              "  </thead>\n",
              "  <tbody>\n",
              "    <tr>\n",
              "      <th>0</th>\n",
              "      <td>65</td>\n",
              "      <td>0</td>\n",
              "      <td>0.7</td>\n",
              "      <td>0.1</td>\n",
              "      <td>187</td>\n",
              "      <td>16</td>\n",
              "      <td>18</td>\n",
              "      <td>6.8</td>\n",
              "      <td>3.3</td>\n",
              "      <td>0.90</td>\n",
              "      <td>1</td>\n",
              "    </tr>\n",
              "    <tr>\n",
              "      <th>1</th>\n",
              "      <td>62</td>\n",
              "      <td>0</td>\n",
              "      <td>10.9</td>\n",
              "      <td>5.5</td>\n",
              "      <td>699</td>\n",
              "      <td>64</td>\n",
              "      <td>100</td>\n",
              "      <td>7.5</td>\n",
              "      <td>3.2</td>\n",
              "      <td>0.74</td>\n",
              "      <td>1</td>\n",
              "    </tr>\n",
              "    <tr>\n",
              "      <th>2</th>\n",
              "      <td>62</td>\n",
              "      <td>0</td>\n",
              "      <td>7.3</td>\n",
              "      <td>4.1</td>\n",
              "      <td>490</td>\n",
              "      <td>60</td>\n",
              "      <td>68</td>\n",
              "      <td>7.0</td>\n",
              "      <td>3.3</td>\n",
              "      <td>0.89</td>\n",
              "      <td>1</td>\n",
              "    </tr>\n",
              "    <tr>\n",
              "      <th>3</th>\n",
              "      <td>58</td>\n",
              "      <td>0</td>\n",
              "      <td>1.0</td>\n",
              "      <td>0.4</td>\n",
              "      <td>182</td>\n",
              "      <td>14</td>\n",
              "      <td>20</td>\n",
              "      <td>6.8</td>\n",
              "      <td>3.4</td>\n",
              "      <td>1.00</td>\n",
              "      <td>1</td>\n",
              "    </tr>\n",
              "    <tr>\n",
              "      <th>4</th>\n",
              "      <td>72</td>\n",
              "      <td>0</td>\n",
              "      <td>3.9</td>\n",
              "      <td>2.0</td>\n",
              "      <td>195</td>\n",
              "      <td>27</td>\n",
              "      <td>59</td>\n",
              "      <td>7.3</td>\n",
              "      <td>2.4</td>\n",
              "      <td>0.40</td>\n",
              "      <td>1</td>\n",
              "    </tr>\n",
              "    <tr>\n",
              "      <th>...</th>\n",
              "      <td>...</td>\n",
              "      <td>...</td>\n",
              "      <td>...</td>\n",
              "      <td>...</td>\n",
              "      <td>...</td>\n",
              "      <td>...</td>\n",
              "      <td>...</td>\n",
              "      <td>...</td>\n",
              "      <td>...</td>\n",
              "      <td>...</td>\n",
              "      <td>...</td>\n",
              "    </tr>\n",
              "    <tr>\n",
              "      <th>578</th>\n",
              "      <td>60</td>\n",
              "      <td>0</td>\n",
              "      <td>0.5</td>\n",
              "      <td>0.1</td>\n",
              "      <td>500</td>\n",
              "      <td>20</td>\n",
              "      <td>34</td>\n",
              "      <td>5.9</td>\n",
              "      <td>1.6</td>\n",
              "      <td>0.37</td>\n",
              "      <td>2</td>\n",
              "    </tr>\n",
              "    <tr>\n",
              "      <th>579</th>\n",
              "      <td>40</td>\n",
              "      <td>0</td>\n",
              "      <td>0.6</td>\n",
              "      <td>0.1</td>\n",
              "      <td>98</td>\n",
              "      <td>35</td>\n",
              "      <td>31</td>\n",
              "      <td>6.0</td>\n",
              "      <td>3.2</td>\n",
              "      <td>1.10</td>\n",
              "      <td>1</td>\n",
              "    </tr>\n",
              "    <tr>\n",
              "      <th>580</th>\n",
              "      <td>52</td>\n",
              "      <td>0</td>\n",
              "      <td>0.8</td>\n",
              "      <td>0.2</td>\n",
              "      <td>245</td>\n",
              "      <td>48</td>\n",
              "      <td>49</td>\n",
              "      <td>6.4</td>\n",
              "      <td>3.2</td>\n",
              "      <td>1.00</td>\n",
              "      <td>1</td>\n",
              "    </tr>\n",
              "    <tr>\n",
              "      <th>581</th>\n",
              "      <td>31</td>\n",
              "      <td>0</td>\n",
              "      <td>1.3</td>\n",
              "      <td>0.5</td>\n",
              "      <td>184</td>\n",
              "      <td>29</td>\n",
              "      <td>32</td>\n",
              "      <td>6.8</td>\n",
              "      <td>3.4</td>\n",
              "      <td>1.00</td>\n",
              "      <td>1</td>\n",
              "    </tr>\n",
              "    <tr>\n",
              "      <th>582</th>\n",
              "      <td>38</td>\n",
              "      <td>0</td>\n",
              "      <td>1.0</td>\n",
              "      <td>0.3</td>\n",
              "      <td>216</td>\n",
              "      <td>21</td>\n",
              "      <td>24</td>\n",
              "      <td>7.3</td>\n",
              "      <td>4.4</td>\n",
              "      <td>1.50</td>\n",
              "      <td>2</td>\n",
              "    </tr>\n",
              "  </tbody>\n",
              "</table>\n",
              "<p>583 rows × 11 columns</p>\n",
              "</div>\n",
              "      <button class=\"colab-df-convert\" onclick=\"convertToInteractive('df-ae389133-5ddb-4302-9699-b12c9d9933bf')\"\n",
              "              title=\"Convert this dataframe to an interactive table.\"\n",
              "              style=\"display:none;\">\n",
              "        \n",
              "  <svg xmlns=\"http://www.w3.org/2000/svg\" height=\"24px\"viewBox=\"0 0 24 24\"\n",
              "       width=\"24px\">\n",
              "    <path d=\"M0 0h24v24H0V0z\" fill=\"none\"/>\n",
              "    <path d=\"M18.56 5.44l.94 2.06.94-2.06 2.06-.94-2.06-.94-.94-2.06-.94 2.06-2.06.94zm-11 1L8.5 8.5l.94-2.06 2.06-.94-2.06-.94L8.5 2.5l-.94 2.06-2.06.94zm10 10l.94 2.06.94-2.06 2.06-.94-2.06-.94-.94-2.06-.94 2.06-2.06.94z\"/><path d=\"M17.41 7.96l-1.37-1.37c-.4-.4-.92-.59-1.43-.59-.52 0-1.04.2-1.43.59L10.3 9.45l-7.72 7.72c-.78.78-.78 2.05 0 2.83L4 21.41c.39.39.9.59 1.41.59.51 0 1.02-.2 1.41-.59l7.78-7.78 2.81-2.81c.8-.78.8-2.07 0-2.86zM5.41 20L4 18.59l7.72-7.72 1.47 1.35L5.41 20z\"/>\n",
              "  </svg>\n",
              "      </button>\n",
              "      \n",
              "  <style>\n",
              "    .colab-df-container {\n",
              "      display:flex;\n",
              "      flex-wrap:wrap;\n",
              "      gap: 12px;\n",
              "    }\n",
              "\n",
              "    .colab-df-convert {\n",
              "      background-color: #E8F0FE;\n",
              "      border: none;\n",
              "      border-radius: 50%;\n",
              "      cursor: pointer;\n",
              "      display: none;\n",
              "      fill: #1967D2;\n",
              "      height: 32px;\n",
              "      padding: 0 0 0 0;\n",
              "      width: 32px;\n",
              "    }\n",
              "\n",
              "    .colab-df-convert:hover {\n",
              "      background-color: #E2EBFA;\n",
              "      box-shadow: 0px 1px 2px rgba(60, 64, 67, 0.3), 0px 1px 3px 1px rgba(60, 64, 67, 0.15);\n",
              "      fill: #174EA6;\n",
              "    }\n",
              "\n",
              "    [theme=dark] .colab-df-convert {\n",
              "      background-color: #3B4455;\n",
              "      fill: #D2E3FC;\n",
              "    }\n",
              "\n",
              "    [theme=dark] .colab-df-convert:hover {\n",
              "      background-color: #434B5C;\n",
              "      box-shadow: 0px 1px 3px 1px rgba(0, 0, 0, 0.15);\n",
              "      filter: drop-shadow(0px 1px 2px rgba(0, 0, 0, 0.3));\n",
              "      fill: #FFFFFF;\n",
              "    }\n",
              "  </style>\n",
              "\n",
              "      <script>\n",
              "        const buttonEl =\n",
              "          document.querySelector('#df-ae389133-5ddb-4302-9699-b12c9d9933bf button.colab-df-convert');\n",
              "        buttonEl.style.display =\n",
              "          google.colab.kernel.accessAllowed ? 'block' : 'none';\n",
              "\n",
              "        async function convertToInteractive(key) {\n",
              "          const element = document.querySelector('#df-ae389133-5ddb-4302-9699-b12c9d9933bf');\n",
              "          const dataTable =\n",
              "            await google.colab.kernel.invokeFunction('convertToInteractive',\n",
              "                                                     [key], {});\n",
              "          if (!dataTable) return;\n",
              "\n",
              "          const docLinkHtml = 'Like what you see? Visit the ' +\n",
              "            '<a target=\"_blank\" href=https://colab.research.google.com/notebooks/data_table.ipynb>data table notebook</a>'\n",
              "            + ' to learn more about interactive tables.';\n",
              "          element.innerHTML = '';\n",
              "          dataTable['output_type'] = 'display_data';\n",
              "          await google.colab.output.renderOutput(dataTable, element);\n",
              "          const docLink = document.createElement('div');\n",
              "          docLink.innerHTML = docLinkHtml;\n",
              "          element.appendChild(docLink);\n",
              "        }\n",
              "      </script>\n",
              "    </div>\n",
              "  </div>\n",
              "  "
            ]
          },
          "metadata": {},
          "execution_count": 18
        }
      ]
    },
    {
      "cell_type": "code",
      "source": [
        "def partition(x):\n",
        "    if x==2:\n",
        "        return 0\n",
        "    return 1\n",
        "data['Dataset']=data['Dataset'].map(partition)"
      ],
      "metadata": {
        "id": "BQZIFCxpKF2y"
      },
      "execution_count": 20,
      "outputs": []
    },
    {
      "cell_type": "code",
      "source": [
        "data['Dataset']"
      ],
      "metadata": {
        "colab": {
          "base_uri": "https://localhost:8080/"
        },
        "id": "_amd5D6xKPQP",
        "outputId": "d429192c-e31f-4974-88db-5c79a8d366a2"
      },
      "execution_count": 21,
      "outputs": [
        {
          "output_type": "execute_result",
          "data": {
            "text/plain": [
              "0      1\n",
              "1      1\n",
              "2      1\n",
              "3      1\n",
              "4      1\n",
              "      ..\n",
              "578    1\n",
              "579    1\n",
              "580    1\n",
              "581    1\n",
              "582    1\n",
              "Name: Dataset, Length: 583, dtype: int64"
            ]
          },
          "metadata": {},
          "execution_count": 21
        }
      ]
    },
    {
      "cell_type": "code",
      "source": [
        "x=data.drop(columns='Dataset',axis=1)\n",
        "y=data['Dataset']"
      ],
      "metadata": {
        "id": "whFtodoiKS55"
      },
      "execution_count": 22,
      "outputs": []
    },
    {
      "cell_type": "code",
      "source": [
        "from sklearn.model_selection import train_test_split\n",
        "x_train,x_test,y_train,y_test=train_test_split(x,y,test_size=0.3,stratify=y,random_state=42)"
      ],
      "metadata": {
        "id": "p2OiI74CKW_5"
      },
      "execution_count": 23,
      "outputs": []
    },
    {
      "cell_type": "code",
      "source": [
        "print(x.shape,x_train.shape,x_test.shape)\n"
      ],
      "metadata": {
        "colab": {
          "base_uri": "https://localhost:8080/"
        },
        "id": "LLCozoFyKazB",
        "outputId": "acff9b2f-dcb1-490c-c8bc-14453b2f081a"
      },
      "execution_count": 24,
      "outputs": [
        {
          "output_type": "stream",
          "name": "stdout",
          "text": [
            "(583, 10) (408, 10) (175, 10)\n"
          ]
        }
      ]
    },
    {
      "cell_type": "code",
      "source": [
        "from sklearn.preprocessing import StandardScaler\n",
        "sc=StandardScaler()\n",
        "xtrain=sc.fit_transform(x_train)\n",
        "xtest=sc.transform(x_test)"
      ],
      "metadata": {
        "id": "G2JYtU9DKfoA"
      },
      "execution_count": 25,
      "outputs": []
    },
    {
      "cell_type": "code",
      "source": [
        "def my_confusion_matrix(y_test, y_pred, plt_title, accuracy_title):\n",
        "    cm=confusion_matrix(y_test, y_pred)\n",
        "    print(f'{accuracy_title} accuracy score:', '{:.2%}'.format(accuracy_score(y_test, y_pred)))\n",
        "    print(classification_report(y_test, y_pred))\n",
        "    sns.heatmap(cm, annot=True, fmt='g', cbar=False, cmap='BuPu')\n",
        "    plt.xlabel('Predicted Values')\n",
        "    plt.ylabel('Actual Values')\n",
        "    plt.title(plt_title)\n",
        "    plt.show()\n",
        "    return cm"
      ],
      "metadata": {
        "id": "Dh4ifW7-KjPu"
      },
      "execution_count": 26,
      "outputs": []
    },
    {
      "cell_type": "code",
      "source": [
        "random_state = 42\n",
        "classifier = [KNeighborsClassifier(),\n",
        "              DecisionTreeClassifier(random_state = random_state),\n",
        "             RandomForestClassifier(random_state = random_state),\n",
        "             ]\n",
        "\n",
        "knn_param_grid = {\"n_neighbors\": np.linspace(1,19,10, dtype = int).tolist(),\n",
        "                 \"weights\": [\"uniform\",\"distance\"],\n",
        "                 \"metric\":[\"euclidean\",\"manhattan\"]}\n",
        "\n",
        "dt_param_grid = {\"min_samples_split\" : range(10,500,20),\n",
        "                \"max_depth\": range(1,20,2)}\n",
        "\n",
        "\n",
        "rf_param_grid = {\"max_features\": [1,3,10],\n",
        "                \"min_samples_split\":[2,3,10],\n",
        "                \"min_samples_leaf\":[1,3,10],\n",
        "               \"bootstrap\":[False],\n",
        "                \"n_estimators\":[100,300],\n",
        "                \"criterion\":[\"gini\"]}\n",
        "classifier_param = [knn_param_grid,\n",
        "                    dt_param_grid,\n",
        "                   rf_param_grid,\n",
        "                   ]"
      ],
      "metadata": {
        "id": "uSC0L6UPKnEJ"
      },
      "execution_count": 27,
      "outputs": []
    },
    {
      "cell_type": "code",
      "source": [
        "cv_result = []\n",
        "best_estimators = []\n",
        "for i in range(len(classifier)):\n",
        "    clf = GridSearchCV(classifier[i], param_grid=classifier_param[i], cv = StratifiedKFold(n_splits = 10), scoring = \"accuracy\", n_jobs = -1,verbose = 1)\n",
        "    clf.fit(x_train,y_train)\n",
        "    cv_result.append(clf.best_score_ * 100)\n",
        "    best_estimators.append(clf.best_estimator_)\n",
        "    print(cv_result[i])"
      ],
      "metadata": {
        "colab": {
          "base_uri": "https://localhost:8080/"
        },
        "id": "aVLhJADgKskL",
        "outputId": "a8ed63d6-b066-48f9-8d2c-15b9ca84300f"
      },
      "execution_count": 28,
      "outputs": [
        {
          "output_type": "stream",
          "name": "stdout",
          "text": [
            "Fitting 10 folds for each of 40 candidates, totalling 400 fits\n",
            "100.0\n",
            "Fitting 10 folds for each of 250 candidates, totalling 2500 fits\n",
            "100.0\n",
            "Fitting 10 folds for each of 54 candidates, totalling 540 fits\n",
            "100.0\n"
          ]
        }
      ]
    },
    {
      "cell_type": "code",
      "source": [
        "cv_results = pd.DataFrame({\"Cross Validation Means\":cv_result, \"ML Models\":[ \"KNeighborsClassifier\", \"Decision Tree Classifier\",\n",
        "             \"Random Forest Classifier\",\n",
        "            ]})\n",
        "\n",
        "g = sns.barplot(\"Cross Validation Means\", \"ML Models\", data = cv_results)\n",
        "g.set_xlabel(\"Mean Accuracy\")\n",
        "g.set_title(\"Cross Validation Scores\")"
      ],
      "metadata": {
        "colab": {
          "base_uri": "https://localhost:8080/",
          "height": 367
        },
        "id": "1i7ddQZNLKYS",
        "outputId": "dde893c5-289e-40f0-8b29-88085433d969"
      },
      "execution_count": 30,
      "outputs": [
        {
          "output_type": "stream",
          "name": "stderr",
          "text": [
            "/usr/local/lib/python3.7/dist-packages/seaborn/_decorators.py:43: FutureWarning: Pass the following variables as keyword args: x, y. From version 0.12, the only valid positional argument will be `data`, and passing other arguments without an explicit keyword will result in an error or misinterpretation.\n",
            "  FutureWarning\n"
          ]
        },
        {
          "output_type": "execute_result",
          "data": {
            "text/plain": [
              "Text(0.5, 1.0, 'Cross Validation Scores')"
            ]
          },
          "metadata": {},
          "execution_count": 30
        },
        {
          "output_type": "display_data",
          "data": {
            "text/plain": [
              "<Figure size 432x288 with 1 Axes>"
            ],
            "image/png": "[encoded data removed]"
          },
          "metadata": {
            "needs_background": "light"
          }
        }
      ]
    },
    {
      "cell_type": "code",
      "source": [
        "best_estimators"
      ],
      "metadata": {
        "colab": {
          "base_uri": "https://localhost:8080/"
        },
        "id": "VaddFRBeLNBt",
        "outputId": "fd4d55b1-28b0-410f-d72f-eb0ae60d92c0"
      },
      "execution_count": 31,
      "outputs": [
        {
          "output_type": "execute_result",
          "data": {
            "text/plain": [
              "[KNeighborsClassifier(metric='euclidean', n_neighbors=1),\n",
              " DecisionTreeClassifier(max_depth=1, min_samples_split=10, random_state=42),\n",
              " RandomForestClassifier(bootstrap=False, max_features=1, random_state=42)]"
            ]
          },
          "metadata": {},
          "execution_count": 31
        }
      ]
    },
    {
      "cell_type": "code",
      "source": [
        "knn = KNeighborsClassifier(n_neighbors = 9)\n",
        "knn.fit(x_train, y_train)\n",
        "y_head_knn = knn.predict(x_test)\n",
        "\n",
        "dt=DecisionTreeClassifier()\n",
        "dt.fit(x_train,y_train)\n",
        "y_head_dt = dt.predict(x_test)\n",
        "\n",
        "rf = RandomForestClassifier(n_estimators = 250, random_state = 1)\n",
        "rf.fit(x_train,y_train)\n",
        "y_head_rf = rf.predict(x_test)"
      ],
      "metadata": {
        "id": "xmmxjC8uLRm4"
      },
      "execution_count": 32,
      "outputs": []
    },
    {
      "cell_type": "code",
      "source": [
        "votingC = VotingClassifier(estimators = [(\"knn\",best_estimators[0]),\n",
        "                                        (\"dt\",best_estimators[1]),\n",
        "                                        (\"rf\",best_estimators[2])],\n",
        "                                        voting = \"hard\", n_jobs = -1)\n",
        "votingC = votingC.fit(x_train, y_train)\n",
        "y_pred=votingC.predict(x_test)\n",
        "my_confusion_matrix(y_test, y_pred, 'Ensemble Model CM', 'Ensemble Model')"
      ],
      "metadata": {
        "colab": {
          "base_uri": "https://localhost:8080/",
          "height": 469
        },
        "id": "fvIQxs6iLw1E",
        "outputId": "a5551d90-1021-43d8-a35e-cf6b59964375"
      },
      "execution_count": 34,
      "outputs": [
        {
          "output_type": "stream",
          "name": "stdout",
          "text": [
            "Ensemble Model accuracy score: 100.00%\n",
            "              precision    recall  f1-score   support\n",
            "\n",
            "           1       1.00      1.00      1.00       175\n",
            "\n",
            "    accuracy                           1.00       175\n",
            "   macro avg       1.00      1.00      1.00       175\n",
            "weighted avg       1.00      1.00      1.00       175\n",
            "\n"
          ]
        },
        {
          "output_type": "display_data",
          "data": {
            "text/plain": [
              "<Figure size 432x288 with 1 Axes>"
            ],
            "image/png": "[encoded data removed]"
          },
          "metadata": {
            "needs_background": "light"
          }
        },
        {
          "output_type": "execute_result",
          "data": {
            "text/plain": [
              "array([[175]])"
            ]
          },
          "metadata": {},
          "execution_count": 34
        }
      ]
    }
  ]
}